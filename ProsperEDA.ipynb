{
 "cells": [
  {
   "cell_type": "markdown",
   "metadata": {},
   "source": [
    "# 分析Prosper数据——EDA\n",
    "\n",
    "## 目录\n",
    "* [项目综述](#项目综述)\n",
    "* [分析过程](#分析过程)\n",
    " * [了解数据内容](#了解数据内容)"
   ]
  },
  {
   "cell_type": "markdown",
   "metadata": {},
   "source": [
    "### 项目综述\n",
    "项目数据源是Prosper的数据。Prosper是美国一家不同于传统借贷的P2P借贷服务的公司，服务内容是贷款人贷款和借款人获取投资收益，而公司收益是从贷方和借方收取服务费。本次项目是站在投资人的角度，投资的收益是从借款人如约还款来实现，利用EDA的思路分析投资价值——因此需要分析借款人的借款信息和还款信息，期望能够证实P2P借贷方式存在投资价值。"
   ]
  },
  {
   "cell_type": "code",
   "execution_count": 1,
   "metadata": {},
   "outputs": [
    {
     "name": "stderr",
     "output_type": "stream",
     "text": [
      "\n",
      "Attaching package: ‘psych’\n",
      "\n",
      "The following objects are masked from ‘package:ggplot2’:\n",
      "\n",
      "    %+%, alpha\n",
      "\n",
      "\n",
      "Attaching package: ‘dplyr’\n",
      "\n",
      "The following objects are masked from ‘package:stats’:\n",
      "\n",
      "    filter, lag\n",
      "\n",
      "The following objects are masked from ‘package:base’:\n",
      "\n",
      "    intersect, setdiff, setequal, union\n",
      "\n"
     ]
    }
   ],
   "source": [
    "library(ggplot2)\n",
    "library(RColorBrewer)\n",
    "library(psych)\n",
    "library(dplyr)\n",
    "library(tidyr)"
   ]
  },
  {
   "cell_type": "code",
   "execution_count": 2,
   "metadata": {
    "collapsed": true
   },
   "outputs": [],
   "source": [
    "# load data\n",
    "rawprosper <- read.csv(\"prosperLoanData.csv\", sep=\",\", stringsAsFactor=FALSE)"
   ]
  },
  {
   "cell_type": "code",
   "execution_count": 3,
   "metadata": {},
   "outputs": [
    {
     "data": {
      "text/html": [
       "<ol class=list-inline>\n",
       "\t<li>113937</li>\n",
       "\t<li>81</li>\n",
       "</ol>\n"
      ],
      "text/latex": [
       "\\begin{enumerate*}\n",
       "\\item 113937\n",
       "\\item 81\n",
       "\\end{enumerate*}\n"
      ],
      "text/markdown": [
       "1. 113937\n",
       "2. 81\n",
       "\n",
       "\n"
      ],
      "text/plain": [
       "[1] 113937     81"
      ]
     },
     "metadata": {},
     "output_type": "display_data"
    }
   ],
   "source": [
    "dim(rawprosper)"
   ]
  },
  {
   "cell_type": "code",
   "execution_count": 6,
   "metadata": {},
   "outputs": [
    {
     "name": "stdout",
     "output_type": "stream",
     "text": [
      " [1] \"AmountDelinquent\"                    \"AvailableBankcardCredit\"            \n",
      " [3] \"BankcardUtilization\"                 \"BorrowerAPR\"                        \n",
      " [5] \"BorrowerRate\"                        \"BorrowerState\"                      \n",
      " [7] \"ClosedDate\"                          \"CreditGrade\"                        \n",
      " [9] \"CreditScoreRangeLower\"               \"CreditScoreRangeUpper\"              \n",
      "[11] \"CurrentCreditLines\"                  \"CurrentDelinquencies\"               \n",
      "[13] \"CurrentlyInGroup\"                    \"DateCreditPulled\"                   \n",
      "[15] \"DebtToIncomeRatio\"                   \"DelinquenciesLast7Years\"            \n",
      "[17] \"EmploymentStatus\"                    \"EmploymentStatusDuration\"           \n",
      "[19] \"EstimatedEffectiveYield\"             \"EstimatedLoss\"                      \n",
      "[21] \"EstimatedReturn\"                     \"FirstRecordedCreditLine\"            \n",
      "[23] \"GroupKey\"                            \"IncomeRange\"                        \n",
      "[25] \"IncomeVerifiable\"                    \"InquiriesLast6Months\"               \n",
      "[27] \"InvestmentFromFriendsAmount\"         \"InvestmentFromFriendsCount\"         \n",
      "[29] \"Investors\"                           \"IsBorrowerHomeowner\"                \n",
      "[31] \"LP_CollectionFees\"                   \"LP_CustomerPayments\"                \n",
      "[33] \"LP_CustomerPrincipalPayments\"        \"LP_GrossPrincipalLoss\"              \n",
      "[35] \"LP_InterestandFees\"                  \"LP_NetPrincipalLoss\"                \n",
      "[37] \"LP_NonPrincipalRecoverypayments\"     \"LP_ServiceFees\"                     \n",
      "[39] \"LenderYield\"                         \"ListingCategory..numeric.\"          \n",
      "[41] \"ListingCreationDate\"                 \"ListingKey\"                         \n",
      "[43] \"ListingNumber\"                       \"LoanCurrentDaysDelinquent\"          \n",
      "[45] \"LoanFirstDefaultedCycleNumber\"       \"LoanKey\"                            \n",
      "[47] \"LoanMonthsSinceOrigination\"          \"LoanNumber\"                         \n",
      "[49] \"LoanOriginalAmount\"                  \"LoanOriginationDate\"                \n",
      "[51] \"LoanOriginationQuarter\"              \"LoanStatus\"                         \n",
      "[53] \"MemberKey\"                           \"MonthlyLoanPayment\"                 \n",
      "[55] \"Occupation\"                          \"OnTimeProsperPayments\"              \n",
      "[57] \"OpenCreditLines\"                     \"OpenRevolvingAccounts\"              \n",
      "[59] \"OpenRevolvingMonthlyPayment\"         \"PercentFunded\"                      \n",
      "[61] \"ProsperPaymentsLessThanOneMonthLate\" \"ProsperPaymentsOneMonthPlusLate\"    \n",
      "[63] \"ProsperPrincipalBorrowed\"            \"ProsperPrincipalOutstanding\"        \n",
      "[65] \"ProsperRating..Alpha.\"               \"ProsperRating..numeric.\"            \n",
      "[67] \"ProsperScore\"                        \"PublicRecordsLast10Years\"           \n",
      "[69] \"PublicRecordsLast12Months\"           \"Recommendations\"                    \n",
      "[71] \"RevolvingCreditBalance\"              \"ScorexChangeAtTimeOfListing\"        \n",
      "[73] \"StatedMonthlyIncome\"                 \"Term\"                               \n",
      "[75] \"TotalCreditLinespast7years\"          \"TotalInquiries\"                     \n",
      "[77] \"TotalProsperLoans\"                   \"TotalProsperPaymentsBilled\"         \n",
      "[79] \"TotalTrades\"                         \"TradesNeverDelinquent..percentage.\" \n",
      "[81] \"TradesOpenedLast6Months\"            \n"
     ]
    }
   ],
   "source": [
    "print(sort(names(rawprosper)))"
   ]
  },
  {
   "cell_type": "markdown",
   "metadata": {},
   "source": [
    "### 了解数据内容\n",
    "该数据集的观测值为113937个，具有81个变量。变量中包括了借款人的信息：借款人类似ID信息(MemberKey)，借款人借款开始日期(LoanOriginationDate)，借款人所在州(BorrowerState)，收入范围(IncomeRange)，债务收入比(DebtToIncomeRatio)，职业(Occupation)，借款人工作期间(EmploymentStatusDuration)，借款人工作状态(EmploymentStatus)，借款总额度(LoanOriginalAmount)，还款策略(Term)，借款后进过月数(LoanMonthsSinceOrigination)，交易数量(TotalTrades)，未发生延期交易的比例(TradesNeverDelinquent..percentage.)，账户还款的次数()；另一方面，承担借款额的投资人人数(Investor)，投资款来自朋友的投资人数(InvestmentFromFriendsCount)，来自朋友投资的投资额(InvestmentFromFriendsAmount)。\n",
    "以上也是本次分析的参考的变量，主要是考虑从了解借款人的收入、债务信息的侧写；另一方面也需要分析投资人在借款人中借款额度中影响，从两个方面去了解借款人的借款合理性、还款能力。以期待能了解Prosper借款用户的特点，分析其投资价值。"
   ]
  }
 ],
 "metadata": {
  "kernelspec": {
   "display_name": "R [conda env:R]",
   "language": "R",
   "name": "conda-env-R-r"
  },
  "language_info": {
   "codemirror_mode": "r",
   "file_extension": ".r",
   "mimetype": "text/x-r-source",
   "name": "R",
   "pygments_lexer": "r",
   "version": "3.4.2"
  }
 },
 "nbformat": 4,
 "nbformat_minor": 2
}
